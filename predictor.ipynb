{
 "cells": [
  {
   "cell_type": "code",
   "execution_count": 3,
   "source": [
    "from tensorflow.keras.models import Sequential, load_model\r\n",
    "\r\n",
    "loaded_model: Sequential = load_model('saved_models/my_model')\r\n",
    "loaded_model"
   ],
   "outputs": [
    {
     "output_type": "execute_result",
     "data": {
      "text/plain": [
       "<keras.engine.sequential.Sequential at 0x1b6ef9872b0>"
      ]
     },
     "metadata": {},
     "execution_count": 3
    }
   ],
   "metadata": {}
  },
  {
   "cell_type": "code",
   "execution_count": 4,
   "source": [
    "import common as cm\r\n",
    "import parallel as pll\r\n",
    "\r\n",
    "data, labels = cm.load_data('src', 500)\r\n",
    "X, labels = pll.preprocess_image_parallel(data, labels)\r\n",
    "Y, types = cm.mask_label(labels)\r\n",
    "types"
   ],
   "outputs": [
    {
     "output_type": "stream",
     "name": "stdout",
     "text": [
      "Data size: 10 and data chunk per core: 1\n"
     ]
    },
    {
     "output_type": "execute_result",
     "data": {
      "text/plain": [
       "{'TR': 0, 'TK': 1, 'TC': 2, 'NE': 3, 'SP': 4, '80': 5}"
      ]
     },
     "metadata": {},
     "execution_count": 4
    }
   ],
   "metadata": {}
  },
  {
   "cell_type": "code",
   "execution_count": 5,
   "source": [
    "import collections\r\n",
    "\r\n",
    "counter = collections.Counter(labels)\r\n",
    "counter.most_common()"
   ],
   "outputs": [
    {
     "output_type": "execute_result",
     "data": {
      "text/plain": [
       "[('TC', 5), ('80', 2), ('TR', 1), ('NE', 1), ('SP', 1)]"
      ]
     },
     "metadata": {},
     "execution_count": 5
    }
   ],
   "metadata": {}
  },
  {
   "cell_type": "code",
   "execution_count": 6,
   "source": [
    "actual_y = [types[y] for y in labels]"
   ],
   "outputs": [],
   "metadata": {}
  },
  {
   "cell_type": "code",
   "execution_count": 7,
   "source": [
    "import numpy as np\r\n",
    "prediction = loaded_model.predict(X)\r\n",
    "predict_Y = [ np.argmax(y) for y in prediction]"
   ],
   "outputs": [],
   "metadata": {}
  },
  {
   "cell_type": "code",
   "execution_count": 8,
   "source": [
    "from sklearn.metrics import confusion_matrix\r\n",
    "matrix = confusion_matrix(actual_y, predict_Y)\r\n",
    "matrix"
   ],
   "outputs": [
    {
     "output_type": "execute_result",
     "data": {
      "text/plain": [
       "array([[0, 0, 0, 0, 1],\n",
       "       [0, 1, 0, 0, 4],\n",
       "       [0, 0, 0, 0, 1],\n",
       "       [0, 0, 0, 0, 1],\n",
       "       [0, 0, 0, 0, 2]], dtype=int64)"
      ]
     },
     "metadata": {},
     "execution_count": 8
    }
   ],
   "metadata": {}
  },
  {
   "cell_type": "code",
   "execution_count": 9,
   "source": [
    "from sklearn.metrics import accuracy_score, precision_score, recall_score, f1_score\r\n",
    "print('Accuracy: {:.2f}\\n'.format(accuracy_score(actual_y, predict_Y)))\r\n",
    "print('Precision: {:.2f}\\n'.format(precision_score(actual_y, predict_Y, average='weighted')))\r\n",
    "print('Recall: {:.2f}\\n'.format(recall_score(actual_y, predict_Y, average='weighted')))\r\n",
    "print('F1 Score: {:.2f}\\n'.format(f1_score(actual_y, predict_Y, average='weighted')))"
   ],
   "outputs": [
    {
     "output_type": "stream",
     "name": "stdout",
     "text": [
      "Accuracy: 0.30\n",
      "\n",
      "Precision: 0.54\n",
      "\n",
      "Recall: 0.30\n",
      "\n",
      "F1 Score: 0.24\n",
      "\n"
     ]
    },
    {
     "output_type": "stream",
     "name": "stderr",
     "text": [
      "C:\\Users\\james\\AppData\\Local\\Programs\\Python\\Python39\\lib\\site-packages\\sklearn\\metrics\\_classification.py:1248: UndefinedMetricWarning: Precision is ill-defined and being set to 0.0 in labels with no predicted samples. Use `zero_division` parameter to control this behavior.\n",
      "  _warn_prf(average, modifier, msg_start, len(result))\n"
     ]
    }
   ],
   "metadata": {}
  },
  {
   "cell_type": "code",
   "execution_count": 10,
   "source": [
    "print(actual_y[:25])\r\n",
    "print(predict_Y[:25])"
   ],
   "outputs": [
    {
     "output_type": "stream",
     "name": "stdout",
     "text": [
      "[2, 5, 0, 2, 5, 2, 2, 3, 2, 4]\n",
      "[5, 5, 5, 5, 5, 5, 2, 5, 5, 5]\n"
     ]
    }
   ],
   "metadata": {}
  }
 ],
 "metadata": {
  "orig_nbformat": 4,
  "language_info": {
   "name": "python",
   "version": "3.9.6",
   "mimetype": "text/x-python",
   "codemirror_mode": {
    "name": "ipython",
    "version": 3
   },
   "pygments_lexer": "ipython3",
   "nbconvert_exporter": "python",
   "file_extension": ".py"
  },
  "kernelspec": {
   "name": "python3",
   "display_name": "Python 3.9.6 64-bit"
  },
  "interpreter": {
   "hash": "22d9742e846c5b2e6352a52abbfdb0eaab0b509899a61abbfb2417673253b584"
  }
 },
 "nbformat": 4,
 "nbformat_minor": 2
}