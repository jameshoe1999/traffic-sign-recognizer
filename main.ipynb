{
 "cells": [
  {
   "cell_type": "code",
   "execution_count": 1,
   "source": [
    "from common import load_data, files_rename\r\n",
    "\r\n",
    "files_rename('src')\r\n",
    "data, labels = load_data('src', 50)\r\n",
    "print('Size of Data:', len(data))\r\n",
    "print('Size of Label:', len(labels))"
   ],
   "outputs": [
    {
     "output_type": "stream",
     "name": "stdout",
     "text": [
      "Size of Data: 50\n",
      "Size of Label: 50\n"
     ]
    }
   ],
   "metadata": {}
  },
  {
   "cell_type": "code",
   "execution_count": 2,
   "source": [
    "import preprocessor as pp\r\n",
    "import numpy as np\r\n",
    "\r\n",
    "dataset = [] # dataset\r\n",
    "label = [] # label\r\n",
    "for (index, image) in enumerate(data):\r\n",
    "    normalized = pp.hist_normalize(image)\r\n",
    "    houghed = pp.hough_circling(normalized)\r\n",
    "    if houghed is not None:\r\n",
    "        hog_img = pp.hog_descriptor(houghed)\r\n",
    "        dataset.append(hog_img)\r\n",
    "        label.append(labels[index])\r\n",
    "\r\n",
    "print('dataset size:', len(dataset))\r\n",
    "print('label size:', len(label))"
   ],
   "outputs": [
    {
     "output_type": "stream",
     "name": "stdout",
     "text": [
      "dataset size: 45\n",
      "label size: 45\n"
     ]
    }
   ],
   "metadata": {}
  },
  {
   "cell_type": "code",
   "execution_count": 3,
   "source": [
    "from tensorflow.keras.utils import to_categorical\r\n",
    "\r\n",
    "X = np.array(dataset)\r\n",
    "X = X.reshape(*X.shape, 1)\r\n",
    "label_set = set(label)\r\n",
    "classes = { val: key + 1 for (key, val) in enumerate(label_set)}\r\n",
    "Y = np.fromiter([classes[y] for y in label], dtype=np.int)\r\n",
    "Y = to_categorical(Y)\r\n",
    "dense = len(Y[0])\r\n",
    "dense"
   ],
   "outputs": [
    {
     "output_type": "execute_result",
     "data": {
      "text/plain": [
       "4"
      ]
     },
     "metadata": {},
     "execution_count": 3
    }
   ],
   "metadata": {}
  },
  {
   "cell_type": "code",
   "execution_count": 4,
   "source": [
    "from sklearn.model_selection import train_test_split\r\n",
    "X_train, X_test, y_train, y_test = train_test_split(X, Y, test_size=0.1, random_state=42)\r\n",
    "X_train.shape"
   ],
   "outputs": [
    {
     "output_type": "execute_result",
     "data": {
      "text/plain": [
       "(40, 512, 256, 1)"
      ]
     },
     "metadata": {},
     "execution_count": 4
    }
   ],
   "metadata": {}
  },
  {
   "cell_type": "code",
   "execution_count": 5,
   "source": [
    "from tensorflow.keras.models import Sequential\r\n",
    "from tensorflow.keras.layers import Conv2D, MaxPool2D, Dense, Flatten\r\n",
    "\r\n",
    "# initiate model\r\n",
    "model = Sequential()\r\n",
    "\r\n",
    "# add model layers\r\n",
    "model.add(Conv2D(32, (4, 4), activation='relu', input_shape=(512, 256, 1)))\r\n",
    "model.add(MaxPool2D((2, 2)))\r\n",
    "model.add(Conv2D(64, (4, 4), activation='relu'))\r\n",
    "model.add(MaxPool2D((2, 2)))\r\n",
    "model.add(Conv2D(128, (4, 4), activation='relu'))\r\n",
    "model.add(Flatten())\r\n",
    "model.add(Dense(dense, activation='softmax'))\r\n",
    "model.summary()"
   ],
   "outputs": [
    {
     "output_type": "stream",
     "name": "stdout",
     "text": [
      "Model: \"sequential\"\n",
      "_________________________________________________________________\n",
      "Layer (type)                 Output Shape              Param #   \n",
      "=================================================================\n",
      "conv2d (Conv2D)              (None, 509, 253, 32)      544       \n",
      "_________________________________________________________________\n",
      "max_pooling2d (MaxPooling2D) (None, 254, 126, 32)      0         \n",
      "_________________________________________________________________\n",
      "conv2d_1 (Conv2D)            (None, 251, 123, 64)      32832     \n",
      "_________________________________________________________________\n",
      "max_pooling2d_1 (MaxPooling2 (None, 125, 61, 64)       0         \n",
      "_________________________________________________________________\n",
      "conv2d_2 (Conv2D)            (None, 122, 58, 128)      131200    \n",
      "_________________________________________________________________\n",
      "flatten (Flatten)            (None, 905728)            0         \n",
      "_________________________________________________________________\n",
      "dense (Dense)                (None, 4)                 3622916   \n",
      "=================================================================\n",
      "Total params: 3,787,492\n",
      "Trainable params: 3,787,492\n",
      "Non-trainable params: 0\n",
      "_________________________________________________________________\n"
     ]
    }
   ],
   "metadata": {}
  },
  {
   "cell_type": "code",
   "execution_count": 6,
   "source": [
    "# compile model using accuracy to measure the performance\r\n",
    "model.compile(optimizer='adam', loss='categorical_crossentropy', metrics=['accuracy'])"
   ],
   "outputs": [],
   "metadata": {}
  },
  {
   "cell_type": "code",
   "execution_count": 7,
   "source": [
    "# train the model\r\n",
    "model.fit(X_train, y_train, validation_data=(X_test, y_test), epochs=3)"
   ],
   "outputs": [
    {
     "output_type": "stream",
     "name": "stdout",
     "text": [
      "Epoch 1/3\n",
      "2/2 [==============================] - 4s 916ms/step - loss: 1.2721 - accuracy: 0.1750 - val_loss: 0.0047 - val_accuracy: 1.0000\n",
      "Epoch 2/3\n",
      "2/2 [==============================] - 3s 833ms/step - loss: 1.0053 - accuracy: 0.8250 - val_loss: 0.3938 - val_accuracy: 1.0000\n",
      "Epoch 3/3\n",
      "2/2 [==============================] - 3s 792ms/step - loss: 0.4353 - accuracy: 0.8750 - val_loss: 0.2942 - val_accuracy: 1.0000\n"
     ]
    },
    {
     "output_type": "execute_result",
     "data": {
      "text/plain": [
       "<keras.callbacks.History at 0x1a418dda100>"
      ]
     },
     "metadata": {},
     "execution_count": 7
    }
   ],
   "metadata": {}
  },
  {
   "cell_type": "code",
   "execution_count": 8,
   "source": [
    "model.save('saved_models/my_model')"
   ],
   "outputs": [
    {
     "output_type": "stream",
     "name": "stdout",
     "text": [
      "INFO:tensorflow:Assets written to: saved_models/my_model\\assets\n"
     ]
    }
   ],
   "metadata": {}
  }
 ],
 "metadata": {
  "orig_nbformat": 4,
  "language_info": {
   "name": "python",
   "version": "3.9.6",
   "mimetype": "text/x-python",
   "codemirror_mode": {
    "name": "ipython",
    "version": 3
   },
   "pygments_lexer": "ipython3",
   "nbconvert_exporter": "python",
   "file_extension": ".py"
  },
  "kernelspec": {
   "name": "python3",
   "display_name": "Python 3.9.6 64-bit"
  },
  "interpreter": {
   "hash": "22d9742e846c5b2e6352a52abbfdb0eaab0b509899a61abbfb2417673253b584"
  }
 },
 "nbformat": 4,
 "nbformat_minor": 2
}